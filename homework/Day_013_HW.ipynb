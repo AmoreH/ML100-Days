{
 "cells": [
  {
   "cell_type": "markdown",
   "metadata": {},
   "source": [
    "## 練習時間\n",
    "參考 Day 12 範例程式，離散化你覺得有興趣的欄位，並嘗試找出有趣的訊息"
   ]
  },
  {
   "cell_type": "code",
   "execution_count": 55,
   "metadata": {},
   "outputs": [],
   "source": [
    "# Import 需要的套件\n",
    "import os\n",
    "import numpy as np\n",
    "import pandas as pd\n",
    "\n",
    "import warnings\n",
    "warnings.filterwarnings('ignore')\n",
    "\n",
    "\n",
    "import matplotlib.pyplot as plt\n",
    "%matplotlib inline"
   ]
  },
  {
   "cell_type": "markdown",
   "metadata": {},
   "source": [
    "### 之前做過的處理"
   ]
  },
  {
   "cell_type": "code",
   "execution_count": 56,
   "metadata": {},
   "outputs": [],
   "source": [
    "# 設定 data_path\n",
    "dir_data = './data/'\n",
    "f_app_train = os.path.join(dir_data, 'application_train.csv')\n",
    "f_app_test = os.path.join(dir_data, 'application_test.csv')\n",
    "\n",
    "app_train = pd.read_csv(f_app_train)\n",
    "app_test = pd.read_csv(f_app_test)\n",
    "\n",
    "from sklearn.preprocessing import LabelEncoder\n",
    "\n",
    "# Create a label encoder object\n",
    "le = LabelEncoder()\n",
    "le_count = 0\n",
    "\n",
    "# Iterate through the columns\n",
    "for col in app_train:\n",
    "    if app_train[col].dtype == 'object':\n",
    "        # If 2 or fewer unique categories\n",
    "        if len(list(app_train[col].unique())) <= 2:\n",
    "            # Train on the training data\n",
    "            le.fit(app_train[col])\n",
    "            # Transform both training and testing data\n",
    "            app_train[col] = le.transform(app_train[col])\n",
    "            app_test[col] = le.transform(app_test[col])\n",
    "            \n",
    "            # Keep track of how many columns were label encoded\n",
    "            le_count += 1\n",
    "            \n",
    "app_train = pd.get_dummies(app_train)\n",
    "app_test = pd.get_dummies(app_test)\n",
    "\n",
    "# Create an anomalous flag column\n",
    "app_train['DAYS_EMPLOYED_ANOM'] = app_train[\"DAYS_EMPLOYED\"] == 365243\n",
    "app_train['DAYS_EMPLOYED'].replace({365243: np.nan}, inplace = True)\n",
    "# also apply to testing dataset\n",
    "app_test['DAYS_EMPLOYED_ANOM'] = app_test[\"DAYS_EMPLOYED\"] == 365243\n",
    "app_test[\"DAYS_EMPLOYED\"].replace({365243: np.nan}, inplace = True)\n",
    "\n",
    "# absolute the value of DAYS_BIRTH\n",
    "app_train['DAYS_BIRTH'] = abs(app_train['DAYS_BIRTH'])\n",
    "app_test['DAYS_BIRTH'] = abs(app_test['DAYS_BIRTH'])"
   ]
  },
  {
   "cell_type": "code",
   "execution_count": 70,
   "metadata": {},
   "outputs": [
    {
     "name": "stdout",
     "output_type": "stream",
     "text": [
      "count    307511.000000\n",
      "mean         59.902600\n",
      "std          40.249078\n",
      "min           4.500000\n",
      "25%          27.000000\n",
      "50%          51.353100\n",
      "75%          80.865000\n",
      "max         405.000000\n",
      "Name: CRE, dtype: float64\n"
     ]
    }
   ],
   "source": [
    "# 根據貸款信用額度分成不同組別\n",
    "CRE_data = app_train[['AMT_CREDIT', 'TARGET']] # subset\n",
    "CRE_data['CRE'] = CRE_data['AMT_CREDIT'] /10000\n",
    "print(CRE_data['CRE'].describe())\n"
   ]
  },
  {
   "cell_type": "code",
   "execution_count": 85,
   "metadata": {
    "scrolled": false
   },
   "outputs": [
    {
     "name": "stdout",
     "output_type": "stream",
     "text": [
      "(0.0, 40.5]       119468\n",
      "(40.5, 81.0]      112886\n",
      "(81.0, 121.5]      48039\n",
      "(121.5, 162.0]     20596\n",
      "(162.0, 202.5]      5039\n",
      "(202.5, 243.0]      1046\n",
      "(243.0, 283.5]       394\n",
      "(283.5, 324.0]        23\n",
      "(364.5, 405.0]        12\n",
      "(324.0, 364.5]         8\n",
      "Name: CRE_BIN, dtype: int64\n"
     ]
    }
   ],
   "source": [
    "bin_cut=np.linspace(0, 405, 11)\n",
    "CRE_data['CRE_BIN'] = pd.cut(CRE_data['CRE'], \n",
    "                                   bins=bin_cut)\n",
    "print(CRE_data['CRE_BIN'].value_counts())"
   ]
  },
  {
   "cell_type": "code",
   "execution_count": 86,
   "metadata": {},
   "outputs": [
    {
     "data": {
      "text/html": [
       "<div>\n",
       "<style scoped>\n",
       "    .dataframe tbody tr th:only-of-type {\n",
       "        vertical-align: middle;\n",
       "    }\n",
       "\n",
       "    .dataframe tbody tr th {\n",
       "        vertical-align: top;\n",
       "    }\n",
       "\n",
       "    .dataframe thead th {\n",
       "        text-align: right;\n",
       "    }\n",
       "</style>\n",
       "<table border=\"1\" class=\"dataframe\">\n",
       "  <thead>\n",
       "    <tr style=\"text-align: right;\">\n",
       "      <th></th>\n",
       "      <th>AMT_CREDIT</th>\n",
       "      <th>TARGET</th>\n",
       "      <th>CRE</th>\n",
       "    </tr>\n",
       "    <tr>\n",
       "      <th>CRE_BIN</th>\n",
       "      <th></th>\n",
       "      <th></th>\n",
       "      <th></th>\n",
       "    </tr>\n",
       "  </thead>\n",
       "  <tbody>\n",
       "    <tr>\n",
       "      <th>(0.0, 40.5]</th>\n",
       "      <td>2.422512e+05</td>\n",
       "      <td>0.080390</td>\n",
       "      <td>24.225124</td>\n",
       "    </tr>\n",
       "    <tr>\n",
       "      <th>(40.5, 81.0]</th>\n",
       "      <td>5.944135e+05</td>\n",
       "      <td>0.093342</td>\n",
       "      <td>59.441349</td>\n",
       "    </tr>\n",
       "    <tr>\n",
       "      <th>(81.0, 121.5]</th>\n",
       "      <td>9.871960e+05</td>\n",
       "      <td>0.067882</td>\n",
       "      <td>98.719602</td>\n",
       "    </tr>\n",
       "    <tr>\n",
       "      <th>(121.5, 162.0]</th>\n",
       "      <td>1.365952e+06</td>\n",
       "      <td>0.056079</td>\n",
       "      <td>136.595157</td>\n",
       "    </tr>\n",
       "    <tr>\n",
       "      <th>(162.0, 202.5]</th>\n",
       "      <td>1.816198e+06</td>\n",
       "      <td>0.044652</td>\n",
       "      <td>181.619751</td>\n",
       "    </tr>\n",
       "    <tr>\n",
       "      <th>(202.5, 243.0]</th>\n",
       "      <td>2.206988e+06</td>\n",
       "      <td>0.025813</td>\n",
       "      <td>220.698841</td>\n",
       "    </tr>\n",
       "    <tr>\n",
       "      <th>(243.0, 283.5]</th>\n",
       "      <td>2.543340e+06</td>\n",
       "      <td>0.032995</td>\n",
       "      <td>254.333950</td>\n",
       "    </tr>\n",
       "    <tr>\n",
       "      <th>(283.5, 324.0]</th>\n",
       "      <td>3.035340e+06</td>\n",
       "      <td>0.086957</td>\n",
       "      <td>303.534000</td>\n",
       "    </tr>\n",
       "    <tr>\n",
       "      <th>(324.0, 364.5]</th>\n",
       "      <td>3.413981e+06</td>\n",
       "      <td>0.000000</td>\n",
       "      <td>341.398125</td>\n",
       "    </tr>\n",
       "    <tr>\n",
       "      <th>(364.5, 405.0]</th>\n",
       "      <td>4.022917e+06</td>\n",
       "      <td>0.083333</td>\n",
       "      <td>402.291712</td>\n",
       "    </tr>\n",
       "  </tbody>\n",
       "</table>\n",
       "</div>"
      ],
      "text/plain": [
       "                  AMT_CREDIT    TARGET         CRE\n",
       "CRE_BIN                                           \n",
       "(0.0, 40.5]     2.422512e+05  0.080390   24.225124\n",
       "(40.5, 81.0]    5.944135e+05  0.093342   59.441349\n",
       "(81.0, 121.5]   9.871960e+05  0.067882   98.719602\n",
       "(121.5, 162.0]  1.365952e+06  0.056079  136.595157\n",
       "(162.0, 202.5]  1.816198e+06  0.044652  181.619751\n",
       "(202.5, 243.0]  2.206988e+06  0.025813  220.698841\n",
       "(243.0, 283.5]  2.543340e+06  0.032995  254.333950\n",
       "(283.5, 324.0]  3.035340e+06  0.086957  303.534000\n",
       "(324.0, 364.5]  3.413981e+06  0.000000  341.398125\n",
       "(364.5, 405.0]  4.022917e+06  0.083333  402.291712"
      ]
     },
     "execution_count": 86,
     "metadata": {},
     "output_type": "execute_result"
    }
   ],
   "source": [
    "CRE_groups  = CRE_data.groupby('CRE_BIN').mean()\n",
    "CRE_groups"
   ]
  },
  {
   "cell_type": "code",
   "execution_count": 87,
   "metadata": {
    "scrolled": true
   },
   "outputs": [
    {
     "data": {
      "image/png": "[encoded data removed]",
      "text/plain": [
       "<Figure size 576x576 with 1 Axes>"
      ]
     },
     "metadata": {},
     "output_type": "display_data"
    }
   ],
   "source": [
    "import seaborn as sns # 另一個繪圖-樣式套件\n",
    "\n",
    "%matplotlib inline\n",
    "plt.style.use('ggplot')\n",
    "plt.figure(figsize = (8, 8))\n",
    "\n",
    "# 以貸款信用額度為 x, target 為 y 繪製 barplot\n",
    "\n",
    "px = CRE_groups.index\n",
    "py = 100*CRE_groups['TARGET']\n",
    "sns.barplot(px, py)\n",
    "\n",
    "# Plot labeling\n",
    "plt.xticks(rotation = 75); plt.xlabel('Credit Group'); plt.ylabel('Failure to Repay (%)')\n",
    "plt.title('Failure to Repay by Credit amount of the loan');"
   ]
  },
  {
   "cell_type": "code",
   "execution_count": null,
   "metadata": {},
   "outputs": [],
   "source": []
  }
 ],
 "metadata": {
  "kernelspec": {
   "display_name": "Python 3",
   "language": "python",
   "name": "python3"
  },
  "language_info": {
   "codemirror_mode": {
    "name": "ipython",
    "version": 3
   },
   "file_extension": ".py",
   "mimetype": "text/x-python",
   "name": "python",
   "nbconvert_exporter": "python",
   "pygments_lexer": "ipython3",
   "version": "3.6.5"
  }
 },
 "nbformat": 4,
 "nbformat_minor": 2
}
