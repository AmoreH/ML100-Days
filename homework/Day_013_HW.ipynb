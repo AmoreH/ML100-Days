{
 "cells": [
  {
   "cell_type": "markdown",
   "metadata": {},
   "source": [
    "## 練習時間\n",
    "參考 Day 12 範例程式，離散化你覺得有興趣的欄位，並嘗試找出有趣的訊息"
   ]
  },
  {
   "cell_type": "code",
   "execution_count": 55,
   "metadata": {},
   "outputs": [],
   "source": [
    "# Import 需要的套件\n",
    "import os\n",
    "import numpy as np\n",
    "import pandas as pd\n",
    "\n",
    "import warnings\n",
    "warnings.filterwarnings('ignore')\n",
    "\n",
    "\n",
    "import matplotlib.pyplot as plt\n",
    "%matplotlib inline"
   ]
  },
  {
   "cell_type": "markdown",
   "metadata": {},
   "source": [
    "### 之前做過的處理"
   ]
  },
  {
   "cell_type": "code",
   "execution_count": 56,
   "metadata": {},
   "outputs": [],
   "source": [
    "# 設定 data_path\n",
    "dir_data = './data/'\n",
    "f_app_train = os.path.join(dir_data, 'application_train.csv')\n",
    "f_app_test = os.path.join(dir_data, 'application_test.csv')\n",
    "\n",
    "app_train = pd.read_csv(f_app_train)\n",
    "app_test = pd.read_csv(f_app_test)\n",
    "\n",
    "from sklearn.preprocessing import LabelEncoder\n",
    "\n",
    "# Create a label encoder object\n",
    "le = LabelEncoder()\n",
    "le_count = 0\n",
    "\n",
    "# Iterate through the columns\n",
    "for col in app_train:\n",
    "    if app_train[col].dtype == 'object':\n",
    "        # If 2 or fewer unique categories\n",
    "        if len(list(app_train[col].unique())) <= 2:\n",
    "            # Train on the training data\n",
    "            le.fit(app_train[col])\n",
    "            # Transform both training and testing data\n",
    "            app_train[col] = le.transform(app_train[col])\n",
    "            app_test[col] = le.transform(app_test[col])\n",
    "            \n",
    "            # Keep track of how many columns were label encoded\n",
    "            le_count += 1\n",
    "            \n",
    "app_train = pd.get_dummies(app_train)\n",
    "app_test = pd.get_dummies(app_test)\n",
    "\n",
    "# Create an anomalous flag column\n",
    "app_train['DAYS_EMPLOYED_ANOM'] = app_train[\"DAYS_EMPLOYED\"] == 365243\n",
    "app_train['DAYS_EMPLOYED'].replace({365243: np.nan}, inplace = True)\n",
    "# also apply to testing dataset\n",
    "app_test['DAYS_EMPLOYED_ANOM'] = app_test[\"DAYS_EMPLOYED\"] == 365243\n",
    "app_test[\"DAYS_EMPLOYED\"].replace({365243: np.nan}, inplace = True)\n",
    "\n",
    "# absolute the value of DAYS_BIRTH\n",
    "app_train['DAYS_BIRTH'] = abs(app_train['DAYS_BIRTH'])\n",
    "app_test['DAYS_BIRTH'] = abs(app_test['DAYS_BIRTH'])"
   ]
  },
  {
   "cell_type": "code",
   "execution_count": 57,
   "metadata": {},
   "outputs": [
    {
     "name": "stdout",
     "output_type": "stream",
     "text": [
      "count    307499.000000\n",
      "mean      27108.573909\n",
      "std       14493.737315\n",
      "min        1615.500000\n",
      "25%       16524.000000\n",
      "50%       24903.000000\n",
      "75%       34596.000000\n",
      "max      258025.500000\n",
      "Name: ANN, dtype: float64\n"
     ]
    }
   ],
   "source": [
    "# 根據收入分成不同組別 (收入區間 - 還款與否)\n",
    "Ann_data = app_train[['AMT_ANNUITY', 'TARGET']] # subset\n",
    "Ann_data['ANN'] = Ann_data['AMT_ANNUITY'] \n",
    "print(Ann_data['ANN'].describe())\n"
   ]
  },
  {
   "cell_type": "code",
   "execution_count": 58,
   "metadata": {
    "scrolled": false
   },
   "outputs": [
    {
     "name": "stdout",
     "output_type": "stream",
     "text": [
      "(23560.0, 26000.0]    23602\n",
      "(21120.0, 23560.0]    23586\n",
      "(16240.0, 18680.0]    21497\n",
      "(11360.0, 13800.0]    21222\n",
      "(18680.0, 21120.0]    20866\n",
      "(8920.0, 11360.0]     20303\n",
      "(13800.0, 16240.0]    19447\n",
      "(6480.0, 8920.0]       9616\n",
      "(4040.0, 6480.0]       3160\n",
      "(1600.0, 4040.0]        347\n",
      "Name: ANN_BIN, dtype: int64\n"
     ]
    }
   ],
   "source": [
    "bin_cut=np.linspace(1600, 26000, 11)\n",
    "Ann_data['ANN_BIN'] = pd.cut(Ann_data['ANN'], \n",
    "                                   bins=bin_cut)\n",
    "print(Ann_data['ANN_BIN'].value_counts())"
   ]
  },
  {
   "cell_type": "code",
   "execution_count": 59,
   "metadata": {},
   "outputs": [
    {
     "data": {
      "text/html": [
       "<div>\n",
       "<style scoped>\n",
       "    .dataframe tbody tr th:only-of-type {\n",
       "        vertical-align: middle;\n",
       "    }\n",
       "\n",
       "    .dataframe tbody tr th {\n",
       "        vertical-align: top;\n",
       "    }\n",
       "\n",
       "    .dataframe thead th {\n",
       "        text-align: right;\n",
       "    }\n",
       "</style>\n",
       "<table border=\"1\" class=\"dataframe\">\n",
       "  <thead>\n",
       "    <tr style=\"text-align: right;\">\n",
       "      <th></th>\n",
       "      <th>AMT_ANNUITY</th>\n",
       "      <th>TARGET</th>\n",
       "      <th>ANN</th>\n",
       "    </tr>\n",
       "    <tr>\n",
       "      <th>ANN_BIN</th>\n",
       "      <th></th>\n",
       "      <th></th>\n",
       "      <th></th>\n",
       "    </tr>\n",
       "  </thead>\n",
       "  <tbody>\n",
       "    <tr>\n",
       "      <th>(1600.0, 4040.0]</th>\n",
       "      <td>3434.641210</td>\n",
       "      <td>0.051873</td>\n",
       "      <td>3434.641210</td>\n",
       "    </tr>\n",
       "    <tr>\n",
       "      <th>(4040.0, 6480.0]</th>\n",
       "      <td>5461.410759</td>\n",
       "      <td>0.058861</td>\n",
       "      <td>5461.410759</td>\n",
       "    </tr>\n",
       "    <tr>\n",
       "      <th>(6480.0, 8920.0]</th>\n",
       "      <td>7586.764611</td>\n",
       "      <td>0.069572</td>\n",
       "      <td>7586.764611</td>\n",
       "    </tr>\n",
       "    <tr>\n",
       "      <th>(8920.0, 11360.0]</th>\n",
       "      <td>9918.099074</td>\n",
       "      <td>0.071812</td>\n",
       "      <td>9918.099074</td>\n",
       "    </tr>\n",
       "    <tr>\n",
       "      <th>(11360.0, 13800.0]</th>\n",
       "      <td>12823.791349</td>\n",
       "      <td>0.067760</td>\n",
       "      <td>12823.791349</td>\n",
       "    </tr>\n",
       "    <tr>\n",
       "      <th>(13800.0, 16240.0]</th>\n",
       "      <td>15090.838278</td>\n",
       "      <td>0.075333</td>\n",
       "      <td>15090.838278</td>\n",
       "    </tr>\n",
       "    <tr>\n",
       "      <th>(16240.0, 18680.0]</th>\n",
       "      <td>17368.907917</td>\n",
       "      <td>0.091222</td>\n",
       "      <td>17368.907917</td>\n",
       "    </tr>\n",
       "    <tr>\n",
       "      <th>(18680.0, 21120.0]</th>\n",
       "      <td>19945.687770</td>\n",
       "      <td>0.082095</td>\n",
       "      <td>19945.687770</td>\n",
       "    </tr>\n",
       "    <tr>\n",
       "      <th>(21120.0, 23560.0]</th>\n",
       "      <td>22291.154286</td>\n",
       "      <td>0.092258</td>\n",
       "      <td>22291.154286</td>\n",
       "    </tr>\n",
       "    <tr>\n",
       "      <th>(23560.0, 26000.0]</th>\n",
       "      <td>24721.101580</td>\n",
       "      <td>0.083934</td>\n",
       "      <td>24721.101580</td>\n",
       "    </tr>\n",
       "  </tbody>\n",
       "</table>\n",
       "</div>"
      ],
      "text/plain": [
       "                     AMT_ANNUITY    TARGET           ANN\n",
       "ANN_BIN                                                 \n",
       "(1600.0, 4040.0]     3434.641210  0.051873   3434.641210\n",
       "(4040.0, 6480.0]     5461.410759  0.058861   5461.410759\n",
       "(6480.0, 8920.0]     7586.764611  0.069572   7586.764611\n",
       "(8920.0, 11360.0]    9918.099074  0.071812   9918.099074\n",
       "(11360.0, 13800.0]  12823.791349  0.067760  12823.791349\n",
       "(13800.0, 16240.0]  15090.838278  0.075333  15090.838278\n",
       "(16240.0, 18680.0]  17368.907917  0.091222  17368.907917\n",
       "(18680.0, 21120.0]  19945.687770  0.082095  19945.687770\n",
       "(21120.0, 23560.0]  22291.154286  0.092258  22291.154286\n",
       "(23560.0, 26000.0]  24721.101580  0.083934  24721.101580"
      ]
     },
     "execution_count": 59,
     "metadata": {},
     "output_type": "execute_result"
    }
   ],
   "source": [
    "Ann_groups  = Ann_data.groupby('ANN_BIN').mean()\n",
    "Ann_groups"
   ]
  },
  {
   "cell_type": "code",
   "execution_count": 60,
   "metadata": {
    "scrolled": true
   },
   "outputs": [
    {
     "data": {
      "image/png": "[encoded data removed]",
      "text/plain": [
       "<Figure size 576x576 with 1 Axes>"
      ]
     },
     "metadata": {},
     "output_type": "display_data"
    }
   ],
   "source": [
    "import seaborn as sns # 另一個繪圖-樣式套件\n",
    "\n",
    "%matplotlib inline\n",
    "plt.style.use('ggplot')\n",
    "plt.figure(figsize = (8, 8))\n",
    "\n",
    "# 以貸款年金為 x, target 為 y 繪製 barplot\n",
    "\n",
    "px = Ann_groups.index\n",
    "py = 100*Ann_groups['TARGET']\n",
    "sns.barplot(px, py)\n",
    "\n",
    "# Plot labeling\n",
    "plt.xticks(rotation = 75); plt.xlabel('Loan Annuity Group'); plt.ylabel('Failure to Repay (%)')\n",
    "plt.title('Failure to Repay by Loan Annuity Group');"
   ]
  },
  {
   "cell_type": "code",
   "execution_count": null,
   "metadata": {},
   "outputs": [],
   "source": []
  }
 ],
 "metadata": {
  "kernelspec": {
   "display_name": "Python 3",
   "language": "python",
   "name": "python3"
  },
  "language_info": {
   "codemirror_mode": {
    "name": "ipython",
    "version": 3
   },
   "file_extension": ".py",
   "mimetype": "text/x-python",
   "name": "python",
   "nbconvert_exporter": "python",
   "pygments_lexer": "ipython3",
   "version": "3.6.5"
  }
 },
 "nbformat": 4,
 "nbformat_minor": 2
}
